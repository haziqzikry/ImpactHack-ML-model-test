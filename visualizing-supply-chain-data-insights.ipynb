{
 "cells": [
  {
   "cell_type": "code",
   "execution_count": null,
   "id": "611b2f0a",
   "metadata": {
    "_cell_guid": "b1076dfc-b9ad-4769-8c92-a6c4dae69d19",
    "_uuid": "8f2839f25d086af736a60e9eeb907d3b93b6e0e5",
    "execution": {
     "iopub.execute_input": "2023-04-26T17:46:03.965283Z",
     "iopub.status.busy": "2023-04-26T17:46:03.964272Z",
     "iopub.status.idle": "2023-04-26T17:46:03.990090Z",
     "shell.execute_reply": "2023-04-26T17:46:03.989092Z"
    },
    "papermill": {
     "duration": 0.038993,
     "end_time": "2023-04-26T17:46:03.992864",
     "exception": false,
     "start_time": "2023-04-26T17:46:03.953871",
     "status": "completed"
    },
    "tags": []
   },
   "outputs": [],
   "source": [
    "# This Python 3 environment comes with many helpful analytics libraries installed\n",
    "# It is defined by the kaggle/python Docker image: https://github.com/kaggle/docker-python\n",
    "# For example, here's several helpful packages to load\n",
    "\n",
    "import numpy as np # linear algebra\n",
    "import pandas as pd # data processing, CSV file I/O (e.g. pd.read_csv)\n",
    "\n",
    "# Input data files are available in the read-only \"../input/\" directory\n",
    "# For example, running this (by clicking run or pressing Shift+Enter) will list all files under the input directory\n",
    "\n",
    "import os\n",
    "for dirname, _, filenames in os.walk('/kaggle/input'):\n",
    "    for filename in filenames:\n",
    "        print(os.path.join(dirname, filename))\n",
    "\n",
    "# You can write up to 20GB to the current directory (/kaggle/working/) that gets preserved as output when you create a version using \"Save & Run All\" \n",
    "# You can also write temporary files to /kaggle/temp/, but they won't be saved outside of the current session"
   ]
  },
  {
   "cell_type": "code",
   "execution_count": null,
   "id": "0bc06fae",
   "metadata": {
    "execution": {
     "iopub.execute_input": "2023-04-26T17:46:04.009579Z",
     "iopub.status.busy": "2023-04-26T17:46:04.008505Z",
     "iopub.status.idle": "2023-04-26T17:46:05.217725Z",
     "shell.execute_reply": "2023-04-26T17:46:05.216365Z"
    },
    "papermill": {
     "duration": 1.220687,
     "end_time": "2023-04-26T17:46:05.220720",
     "exception": false,
     "start_time": "2023-04-26T17:46:04.000033",
     "status": "completed"
    },
    "tags": []
   },
   "outputs": [],
   "source": [
    "# Import libraries\n",
    "import pandas as pd\n",
    "import numpy as np\n",
    "import matplotlib.pyplot as plt\n",
    "import seaborn as sns\n"
   ]
  },
  {
   "cell_type": "code",
   "execution_count": 3,
   "id": "2f5124ce",
   "metadata": {
    "execution": {
     "iopub.execute_input": "2023-04-26T17:46:05.237395Z",
     "iopub.status.busy": "2023-04-26T17:46:05.236268Z",
     "iopub.status.idle": "2023-04-26T17:46:05.299537Z",
     "shell.execute_reply": "2023-04-26T17:46:05.298087Z"
    },
    "papermill": {
     "duration": 0.074352,
     "end_time": "2023-04-26T17:46:05.302231",
     "exception": false,
     "start_time": "2023-04-26T17:46:05.227879",
     "status": "completed"
    },
    "tags": []
   },
   "outputs": [
    {
     "data": {
      "text/html": [
       "<div>\n",
       "<style scoped>\n",
       "    .dataframe tbody tr th:only-of-type {\n",
       "        vertical-align: middle;\n",
       "    }\n",
       "\n",
       "    .dataframe tbody tr th {\n",
       "        vertical-align: top;\n",
       "    }\n",
       "\n",
       "    .dataframe thead th {\n",
       "        text-align: right;\n",
       "    }\n",
       "</style>\n",
       "<table border=\"1\" class=\"dataframe\">\n",
       "  <thead>\n",
       "    <tr style=\"text-align: right;\">\n",
       "      <th></th>\n",
       "      <th>Product type</th>\n",
       "      <th>SKU</th>\n",
       "      <th>Price</th>\n",
       "      <th>Availability</th>\n",
       "      <th>Number of products sold</th>\n",
       "      <th>Revenue generated</th>\n",
       "      <th>Customer demographics</th>\n",
       "      <th>Stock levels</th>\n",
       "      <th>Lead times</th>\n",
       "      <th>Order quantities</th>\n",
       "      <th>...</th>\n",
       "      <th>Location</th>\n",
       "      <th>Lead time</th>\n",
       "      <th>Production volumes</th>\n",
       "      <th>Manufacturing lead time</th>\n",
       "      <th>Manufacturing costs</th>\n",
       "      <th>Inspection results</th>\n",
       "      <th>Defect rates</th>\n",
       "      <th>Transportation modes</th>\n",
       "      <th>Routes</th>\n",
       "      <th>Costs</th>\n",
       "    </tr>\n",
       "  </thead>\n",
       "  <tbody>\n",
       "    <tr>\n",
       "      <th>0</th>\n",
       "      <td>haircare</td>\n",
       "      <td>SKU0</td>\n",
       "      <td>69.808006</td>\n",
       "      <td>55</td>\n",
       "      <td>802</td>\n",
       "      <td>8661.996792</td>\n",
       "      <td>Non-binary</td>\n",
       "      <td>58</td>\n",
       "      <td>7</td>\n",
       "      <td>96</td>\n",
       "      <td>...</td>\n",
       "      <td>Mumbai</td>\n",
       "      <td>29</td>\n",
       "      <td>215</td>\n",
       "      <td>29</td>\n",
       "      <td>46.279879</td>\n",
       "      <td>Pending</td>\n",
       "      <td>0.226410</td>\n",
       "      <td>Road</td>\n",
       "      <td>Route B</td>\n",
       "      <td>187.752075</td>\n",
       "    </tr>\n",
       "    <tr>\n",
       "      <th>1</th>\n",
       "      <td>skincare</td>\n",
       "      <td>SKU1</td>\n",
       "      <td>14.843523</td>\n",
       "      <td>95</td>\n",
       "      <td>736</td>\n",
       "      <td>7460.900065</td>\n",
       "      <td>Female</td>\n",
       "      <td>53</td>\n",
       "      <td>30</td>\n",
       "      <td>37</td>\n",
       "      <td>...</td>\n",
       "      <td>Mumbai</td>\n",
       "      <td>23</td>\n",
       "      <td>517</td>\n",
       "      <td>30</td>\n",
       "      <td>33.616769</td>\n",
       "      <td>Pending</td>\n",
       "      <td>4.854068</td>\n",
       "      <td>Road</td>\n",
       "      <td>Route B</td>\n",
       "      <td>503.065579</td>\n",
       "    </tr>\n",
       "    <tr>\n",
       "      <th>2</th>\n",
       "      <td>haircare</td>\n",
       "      <td>SKU2</td>\n",
       "      <td>11.319683</td>\n",
       "      <td>34</td>\n",
       "      <td>8</td>\n",
       "      <td>9577.749626</td>\n",
       "      <td>Unknown</td>\n",
       "      <td>1</td>\n",
       "      <td>10</td>\n",
       "      <td>88</td>\n",
       "      <td>...</td>\n",
       "      <td>Mumbai</td>\n",
       "      <td>12</td>\n",
       "      <td>971</td>\n",
       "      <td>27</td>\n",
       "      <td>30.688019</td>\n",
       "      <td>Pending</td>\n",
       "      <td>4.580593</td>\n",
       "      <td>Air</td>\n",
       "      <td>Route C</td>\n",
       "      <td>141.920282</td>\n",
       "    </tr>\n",
       "    <tr>\n",
       "      <th>3</th>\n",
       "      <td>skincare</td>\n",
       "      <td>SKU3</td>\n",
       "      <td>61.163343</td>\n",
       "      <td>68</td>\n",
       "      <td>83</td>\n",
       "      <td>7766.836426</td>\n",
       "      <td>Non-binary</td>\n",
       "      <td>23</td>\n",
       "      <td>13</td>\n",
       "      <td>59</td>\n",
       "      <td>...</td>\n",
       "      <td>Kolkata</td>\n",
       "      <td>24</td>\n",
       "      <td>937</td>\n",
       "      <td>18</td>\n",
       "      <td>35.624741</td>\n",
       "      <td>Fail</td>\n",
       "      <td>4.746649</td>\n",
       "      <td>Rail</td>\n",
       "      <td>Route A</td>\n",
       "      <td>254.776159</td>\n",
       "    </tr>\n",
       "    <tr>\n",
       "      <th>4</th>\n",
       "      <td>skincare</td>\n",
       "      <td>SKU4</td>\n",
       "      <td>4.805496</td>\n",
       "      <td>26</td>\n",
       "      <td>871</td>\n",
       "      <td>2686.505152</td>\n",
       "      <td>Non-binary</td>\n",
       "      <td>5</td>\n",
       "      <td>3</td>\n",
       "      <td>56</td>\n",
       "      <td>...</td>\n",
       "      <td>Delhi</td>\n",
       "      <td>5</td>\n",
       "      <td>414</td>\n",
       "      <td>3</td>\n",
       "      <td>92.065161</td>\n",
       "      <td>Fail</td>\n",
       "      <td>3.145580</td>\n",
       "      <td>Air</td>\n",
       "      <td>Route A</td>\n",
       "      <td>923.440632</td>\n",
       "    </tr>\n",
       "  </tbody>\n",
       "</table>\n",
       "<p>5 rows × 24 columns</p>\n",
       "</div>"
      ],
      "text/plain": [
       "  Product type   SKU      Price  Availability  Number of products sold  \\\n",
       "0     haircare  SKU0  69.808006            55                      802   \n",
       "1     skincare  SKU1  14.843523            95                      736   \n",
       "2     haircare  SKU2  11.319683            34                        8   \n",
       "3     skincare  SKU3  61.163343            68                       83   \n",
       "4     skincare  SKU4   4.805496            26                      871   \n",
       "\n",
       "   Revenue generated Customer demographics  Stock levels  Lead times  \\\n",
       "0        8661.996792            Non-binary            58           7   \n",
       "1        7460.900065                Female            53          30   \n",
       "2        9577.749626               Unknown             1          10   \n",
       "3        7766.836426            Non-binary            23          13   \n",
       "4        2686.505152            Non-binary             5           3   \n",
       "\n",
       "   Order quantities  ...  Location Lead time  Production volumes  \\\n",
       "0                96  ...    Mumbai        29                 215   \n",
       "1                37  ...    Mumbai        23                 517   \n",
       "2                88  ...    Mumbai        12                 971   \n",
       "3                59  ...   Kolkata        24                 937   \n",
       "4                56  ...     Delhi         5                 414   \n",
       "\n",
       "  Manufacturing lead time Manufacturing costs  Inspection results  \\\n",
       "0                      29           46.279879             Pending   \n",
       "1                      30           33.616769             Pending   \n",
       "2                      27           30.688019             Pending   \n",
       "3                      18           35.624741                Fail   \n",
       "4                       3           92.065161                Fail   \n",
       "\n",
       "   Defect rates  Transportation modes   Routes       Costs  \n",
       "0      0.226410                  Road  Route B  187.752075  \n",
       "1      4.854068                  Road  Route B  503.065579  \n",
       "2      4.580593                   Air  Route C  141.920282  \n",
       "3      4.746649                  Rail  Route A  254.776159  \n",
       "4      3.145580                   Air  Route A  923.440632  \n",
       "\n",
       "[5 rows x 24 columns]"
      ]
     },
     "execution_count": 3,
     "metadata": {},
     "output_type": "execute_result"
    }
   ],
   "source": [
    "df=pd.read_csv('supply_chain_data.csv')\n",
    "df.head()"
   ]
  },
  {
   "cell_type": "code",
   "execution_count": 4,
   "id": "84408587",
   "metadata": {
    "execution": {
     "iopub.execute_input": "2023-04-26T17:46:05.320144Z",
     "iopub.status.busy": "2023-04-26T17:46:05.319696Z",
     "iopub.status.idle": "2023-04-26T17:46:05.348253Z",
     "shell.execute_reply": "2023-04-26T17:46:05.346868Z"
    },
    "papermill": {
     "duration": 0.042022,
     "end_time": "2023-04-26T17:46:05.351641",
     "exception": false,
     "start_time": "2023-04-26T17:46:05.309619",
     "status": "completed"
    },
    "tags": []
   },
   "outputs": [
    {
     "data": {
      "text/html": [
       "<div>\n",
       "<style scoped>\n",
       "    .dataframe tbody tr th:only-of-type {\n",
       "        vertical-align: middle;\n",
       "    }\n",
       "\n",
       "    .dataframe tbody tr th {\n",
       "        vertical-align: top;\n",
       "    }\n",
       "\n",
       "    .dataframe thead th {\n",
       "        text-align: right;\n",
       "    }\n",
       "</style>\n",
       "<table border=\"1\" class=\"dataframe\">\n",
       "  <thead>\n",
       "    <tr style=\"text-align: right;\">\n",
       "      <th></th>\n",
       "      <th>Product type</th>\n",
       "      <th>SKU</th>\n",
       "      <th>Price</th>\n",
       "      <th>Availability</th>\n",
       "      <th>Number of products sold</th>\n",
       "      <th>Revenue generated</th>\n",
       "      <th>Customer demographics</th>\n",
       "      <th>Stock levels</th>\n",
       "      <th>Lead times</th>\n",
       "      <th>Order quantities</th>\n",
       "      <th>...</th>\n",
       "      <th>Location</th>\n",
       "      <th>Lead time</th>\n",
       "      <th>Production volumes</th>\n",
       "      <th>Manufacturing lead time</th>\n",
       "      <th>Manufacturing costs</th>\n",
       "      <th>Inspection results</th>\n",
       "      <th>Defect rates</th>\n",
       "      <th>Transportation modes</th>\n",
       "      <th>Routes</th>\n",
       "      <th>Costs</th>\n",
       "    </tr>\n",
       "  </thead>\n",
       "  <tbody>\n",
       "    <tr>\n",
       "      <th>95</th>\n",
       "      <td>haircare</td>\n",
       "      <td>SKU95</td>\n",
       "      <td>77.903927</td>\n",
       "      <td>65</td>\n",
       "      <td>672</td>\n",
       "      <td>7386.363944</td>\n",
       "      <td>Unknown</td>\n",
       "      <td>15</td>\n",
       "      <td>14</td>\n",
       "      <td>26</td>\n",
       "      <td>...</td>\n",
       "      <td>Mumbai</td>\n",
       "      <td>18</td>\n",
       "      <td>450</td>\n",
       "      <td>26</td>\n",
       "      <td>58.890686</td>\n",
       "      <td>Pending</td>\n",
       "      <td>1.210882</td>\n",
       "      <td>Air</td>\n",
       "      <td>Route A</td>\n",
       "      <td>778.864241</td>\n",
       "    </tr>\n",
       "    <tr>\n",
       "      <th>96</th>\n",
       "      <td>cosmetics</td>\n",
       "      <td>SKU96</td>\n",
       "      <td>24.423131</td>\n",
       "      <td>29</td>\n",
       "      <td>324</td>\n",
       "      <td>7698.424766</td>\n",
       "      <td>Non-binary</td>\n",
       "      <td>67</td>\n",
       "      <td>2</td>\n",
       "      <td>32</td>\n",
       "      <td>...</td>\n",
       "      <td>Mumbai</td>\n",
       "      <td>28</td>\n",
       "      <td>648</td>\n",
       "      <td>28</td>\n",
       "      <td>17.803756</td>\n",
       "      <td>Pending</td>\n",
       "      <td>3.872048</td>\n",
       "      <td>Road</td>\n",
       "      <td>Route A</td>\n",
       "      <td>188.742141</td>\n",
       "    </tr>\n",
       "    <tr>\n",
       "      <th>97</th>\n",
       "      <td>haircare</td>\n",
       "      <td>SKU97</td>\n",
       "      <td>3.526111</td>\n",
       "      <td>56</td>\n",
       "      <td>62</td>\n",
       "      <td>4370.916580</td>\n",
       "      <td>Male</td>\n",
       "      <td>46</td>\n",
       "      <td>19</td>\n",
       "      <td>4</td>\n",
       "      <td>...</td>\n",
       "      <td>Mumbai</td>\n",
       "      <td>10</td>\n",
       "      <td>535</td>\n",
       "      <td>13</td>\n",
       "      <td>65.765156</td>\n",
       "      <td>Fail</td>\n",
       "      <td>3.376238</td>\n",
       "      <td>Road</td>\n",
       "      <td>Route A</td>\n",
       "      <td>540.132423</td>\n",
       "    </tr>\n",
       "    <tr>\n",
       "      <th>98</th>\n",
       "      <td>skincare</td>\n",
       "      <td>SKU98</td>\n",
       "      <td>19.754605</td>\n",
       "      <td>43</td>\n",
       "      <td>913</td>\n",
       "      <td>8525.952560</td>\n",
       "      <td>Female</td>\n",
       "      <td>53</td>\n",
       "      <td>1</td>\n",
       "      <td>27</td>\n",
       "      <td>...</td>\n",
       "      <td>Chennai</td>\n",
       "      <td>28</td>\n",
       "      <td>581</td>\n",
       "      <td>9</td>\n",
       "      <td>5.604691</td>\n",
       "      <td>Pending</td>\n",
       "      <td>2.908122</td>\n",
       "      <td>Rail</td>\n",
       "      <td>Route A</td>\n",
       "      <td>882.198864</td>\n",
       "    </tr>\n",
       "    <tr>\n",
       "      <th>99</th>\n",
       "      <td>haircare</td>\n",
       "      <td>SKU99</td>\n",
       "      <td>68.517833</td>\n",
       "      <td>17</td>\n",
       "      <td>627</td>\n",
       "      <td>9185.185829</td>\n",
       "      <td>Unknown</td>\n",
       "      <td>55</td>\n",
       "      <td>8</td>\n",
       "      <td>59</td>\n",
       "      <td>...</td>\n",
       "      <td>Chennai</td>\n",
       "      <td>29</td>\n",
       "      <td>921</td>\n",
       "      <td>2</td>\n",
       "      <td>38.072899</td>\n",
       "      <td>Fail</td>\n",
       "      <td>0.346027</td>\n",
       "      <td>Rail</td>\n",
       "      <td>Route B</td>\n",
       "      <td>210.743009</td>\n",
       "    </tr>\n",
       "  </tbody>\n",
       "</table>\n",
       "<p>5 rows × 24 columns</p>\n",
       "</div>"
      ],
      "text/plain": [
       "   Product type    SKU      Price  Availability  Number of products sold  \\\n",
       "95     haircare  SKU95  77.903927            65                      672   \n",
       "96    cosmetics  SKU96  24.423131            29                      324   \n",
       "97     haircare  SKU97   3.526111            56                       62   \n",
       "98     skincare  SKU98  19.754605            43                      913   \n",
       "99     haircare  SKU99  68.517833            17                      627   \n",
       "\n",
       "    Revenue generated Customer demographics  Stock levels  Lead times  \\\n",
       "95        7386.363944               Unknown            15          14   \n",
       "96        7698.424766            Non-binary            67           2   \n",
       "97        4370.916580                  Male            46          19   \n",
       "98        8525.952560                Female            53           1   \n",
       "99        9185.185829               Unknown            55           8   \n",
       "\n",
       "    Order quantities  ...  Location Lead time  Production volumes  \\\n",
       "95                26  ...    Mumbai        18                 450   \n",
       "96                32  ...    Mumbai        28                 648   \n",
       "97                 4  ...    Mumbai        10                 535   \n",
       "98                27  ...   Chennai        28                 581   \n",
       "99                59  ...   Chennai        29                 921   \n",
       "\n",
       "   Manufacturing lead time Manufacturing costs  Inspection results  \\\n",
       "95                      26           58.890686             Pending   \n",
       "96                      28           17.803756             Pending   \n",
       "97                      13           65.765156                Fail   \n",
       "98                       9            5.604691             Pending   \n",
       "99                       2           38.072899                Fail   \n",
       "\n",
       "    Defect rates  Transportation modes   Routes       Costs  \n",
       "95      1.210882                   Air  Route A  778.864241  \n",
       "96      3.872048                  Road  Route A  188.742141  \n",
       "97      3.376238                  Road  Route A  540.132423  \n",
       "98      2.908122                  Rail  Route A  882.198864  \n",
       "99      0.346027                  Rail  Route B  210.743009  \n",
       "\n",
       "[5 rows x 24 columns]"
      ]
     },
     "execution_count": 4,
     "metadata": {},
     "output_type": "execute_result"
    }
   ],
   "source": [
    "df.tail()"
   ]
  },
  {
   "cell_type": "code",
   "execution_count": 5,
   "id": "828e775b",
   "metadata": {
    "execution": {
     "iopub.execute_input": "2023-04-26T17:46:05.369845Z",
     "iopub.status.busy": "2023-04-26T17:46:05.368620Z",
     "iopub.status.idle": "2023-04-26T17:46:05.375967Z",
     "shell.execute_reply": "2023-04-26T17:46:05.375096Z"
    },
    "papermill": {
     "duration": 0.018771,
     "end_time": "2023-04-26T17:46:05.378167",
     "exception": false,
     "start_time": "2023-04-26T17:46:05.359396",
     "status": "completed"
    },
    "tags": []
   },
   "outputs": [
    {
     "data": {
      "text/plain": [
       "(100, 24)"
      ]
     },
     "execution_count": 5,
     "metadata": {},
     "output_type": "execute_result"
    }
   ],
   "source": [
    "df.shape"
   ]
  },
  {
   "cell_type": "code",
   "execution_count": 6,
   "id": "1f0ab92e",
   "metadata": {
    "execution": {
     "iopub.execute_input": "2023-04-26T17:46:05.395457Z",
     "iopub.status.busy": "2023-04-26T17:46:05.395000Z",
     "iopub.status.idle": "2023-04-26T17:46:05.423166Z",
     "shell.execute_reply": "2023-04-26T17:46:05.421734Z"
    },
    "papermill": {
     "duration": 0.040178,
     "end_time": "2023-04-26T17:46:05.426054",
     "exception": false,
     "start_time": "2023-04-26T17:46:05.385876",
     "status": "completed"
    },
    "tags": []
   },
   "outputs": [
    {
     "name": "stdout",
     "output_type": "stream",
     "text": [
      "<class 'pandas.core.frame.DataFrame'>\n",
      "RangeIndex: 100 entries, 0 to 99\n",
      "Data columns (total 24 columns):\n",
      " #   Column                   Non-Null Count  Dtype  \n",
      "---  ------                   --------------  -----  \n",
      " 0   Product type             100 non-null    object \n",
      " 1   SKU                      100 non-null    object \n",
      " 2   Price                    100 non-null    float64\n",
      " 3   Availability             100 non-null    int64  \n",
      " 4   Number of products sold  100 non-null    int64  \n",
      " 5   Revenue generated        100 non-null    float64\n",
      " 6   Customer demographics    100 non-null    object \n",
      " 7   Stock levels             100 non-null    int64  \n",
      " 8   Lead times               100 non-null    int64  \n",
      " 9   Order quantities         100 non-null    int64  \n",
      " 10  Shipping times           100 non-null    int64  \n",
      " 11  Shipping carriers        100 non-null    object \n",
      " 12  Shipping costs           100 non-null    float64\n",
      " 13  Supplier name            100 non-null    object \n",
      " 14  Location                 100 non-null    object \n",
      " 15  Lead time                100 non-null    int64  \n",
      " 16  Production volumes       100 non-null    int64  \n",
      " 17  Manufacturing lead time  100 non-null    int64  \n",
      " 18  Manufacturing costs      100 non-null    float64\n",
      " 19  Inspection results       100 non-null    object \n",
      " 20  Defect rates             100 non-null    float64\n",
      " 21  Transportation modes     100 non-null    object \n",
      " 22  Routes                   100 non-null    object \n",
      " 23  Costs                    100 non-null    float64\n",
      "dtypes: float64(6), int64(9), object(9)\n",
      "memory usage: 18.9+ KB\n"
     ]
    }
   ],
   "source": [
    "df.info()"
   ]
  },
  {
   "cell_type": "code",
   "execution_count": 7,
   "id": "f5b51399",
   "metadata": {
    "execution": {
     "iopub.execute_input": "2023-04-26T17:46:05.444259Z",
     "iopub.status.busy": "2023-04-26T17:46:05.443373Z",
     "iopub.status.idle": "2023-04-26T17:46:05.499612Z",
     "shell.execute_reply": "2023-04-26T17:46:05.498540Z"
    },
    "papermill": {
     "duration": 0.067992,
     "end_time": "2023-04-26T17:46:05.501964",
     "exception": false,
     "start_time": "2023-04-26T17:46:05.433972",
     "status": "completed"
    },
    "tags": []
   },
   "outputs": [
    {
     "data": {
      "text/html": [
       "<div>\n",
       "<style scoped>\n",
       "    .dataframe tbody tr th:only-of-type {\n",
       "        vertical-align: middle;\n",
       "    }\n",
       "\n",
       "    .dataframe tbody tr th {\n",
       "        vertical-align: top;\n",
       "    }\n",
       "\n",
       "    .dataframe thead th {\n",
       "        text-align: right;\n",
       "    }\n",
       "</style>\n",
       "<table border=\"1\" class=\"dataframe\">\n",
       "  <thead>\n",
       "    <tr style=\"text-align: right;\">\n",
       "      <th></th>\n",
       "      <th>Price</th>\n",
       "      <th>Availability</th>\n",
       "      <th>Number of products sold</th>\n",
       "      <th>Revenue generated</th>\n",
       "      <th>Stock levels</th>\n",
       "      <th>Lead times</th>\n",
       "      <th>Order quantities</th>\n",
       "      <th>Shipping times</th>\n",
       "      <th>Shipping costs</th>\n",
       "      <th>Lead time</th>\n",
       "      <th>Production volumes</th>\n",
       "      <th>Manufacturing lead time</th>\n",
       "      <th>Manufacturing costs</th>\n",
       "      <th>Defect rates</th>\n",
       "      <th>Costs</th>\n",
       "    </tr>\n",
       "  </thead>\n",
       "  <tbody>\n",
       "    <tr>\n",
       "      <th>count</th>\n",
       "      <td>100.000000</td>\n",
       "      <td>100.000000</td>\n",
       "      <td>100.000000</td>\n",
       "      <td>100.000000</td>\n",
       "      <td>100.000000</td>\n",
       "      <td>100.000000</td>\n",
       "      <td>100.000000</td>\n",
       "      <td>100.000000</td>\n",
       "      <td>100.000000</td>\n",
       "      <td>100.000000</td>\n",
       "      <td>100.000000</td>\n",
       "      <td>100.00000</td>\n",
       "      <td>100.000000</td>\n",
       "      <td>100.000000</td>\n",
       "      <td>100.000000</td>\n",
       "    </tr>\n",
       "    <tr>\n",
       "      <th>mean</th>\n",
       "      <td>49.462461</td>\n",
       "      <td>48.400000</td>\n",
       "      <td>460.990000</td>\n",
       "      <td>5776.048187</td>\n",
       "      <td>47.770000</td>\n",
       "      <td>15.960000</td>\n",
       "      <td>49.220000</td>\n",
       "      <td>5.750000</td>\n",
       "      <td>5.548149</td>\n",
       "      <td>17.080000</td>\n",
       "      <td>567.840000</td>\n",
       "      <td>14.77000</td>\n",
       "      <td>47.266693</td>\n",
       "      <td>2.277158</td>\n",
       "      <td>529.245782</td>\n",
       "    </tr>\n",
       "    <tr>\n",
       "      <th>std</th>\n",
       "      <td>31.168193</td>\n",
       "      <td>30.743317</td>\n",
       "      <td>303.780074</td>\n",
       "      <td>2732.841744</td>\n",
       "      <td>31.369372</td>\n",
       "      <td>8.785801</td>\n",
       "      <td>26.784429</td>\n",
       "      <td>2.724283</td>\n",
       "      <td>2.651376</td>\n",
       "      <td>8.846251</td>\n",
       "      <td>263.046861</td>\n",
       "      <td>8.91243</td>\n",
       "      <td>28.982841</td>\n",
       "      <td>1.461366</td>\n",
       "      <td>258.301696</td>\n",
       "    </tr>\n",
       "    <tr>\n",
       "      <th>min</th>\n",
       "      <td>1.699976</td>\n",
       "      <td>1.000000</td>\n",
       "      <td>8.000000</td>\n",
       "      <td>1061.618523</td>\n",
       "      <td>0.000000</td>\n",
       "      <td>1.000000</td>\n",
       "      <td>1.000000</td>\n",
       "      <td>1.000000</td>\n",
       "      <td>1.013487</td>\n",
       "      <td>1.000000</td>\n",
       "      <td>104.000000</td>\n",
       "      <td>1.00000</td>\n",
       "      <td>1.085069</td>\n",
       "      <td>0.018608</td>\n",
       "      <td>103.916248</td>\n",
       "    </tr>\n",
       "    <tr>\n",
       "      <th>25%</th>\n",
       "      <td>19.597823</td>\n",
       "      <td>22.750000</td>\n",
       "      <td>184.250000</td>\n",
       "      <td>2812.847151</td>\n",
       "      <td>16.750000</td>\n",
       "      <td>8.000000</td>\n",
       "      <td>26.000000</td>\n",
       "      <td>3.750000</td>\n",
       "      <td>3.540248</td>\n",
       "      <td>10.000000</td>\n",
       "      <td>352.000000</td>\n",
       "      <td>7.00000</td>\n",
       "      <td>22.983299</td>\n",
       "      <td>1.009650</td>\n",
       "      <td>318.778455</td>\n",
       "    </tr>\n",
       "    <tr>\n",
       "      <th>50%</th>\n",
       "      <td>51.239831</td>\n",
       "      <td>43.500000</td>\n",
       "      <td>392.500000</td>\n",
       "      <td>6006.352023</td>\n",
       "      <td>47.500000</td>\n",
       "      <td>17.000000</td>\n",
       "      <td>52.000000</td>\n",
       "      <td>6.000000</td>\n",
       "      <td>5.320534</td>\n",
       "      <td>18.000000</td>\n",
       "      <td>568.500000</td>\n",
       "      <td>14.00000</td>\n",
       "      <td>45.905622</td>\n",
       "      <td>2.141863</td>\n",
       "      <td>520.430444</td>\n",
       "    </tr>\n",
       "    <tr>\n",
       "      <th>75%</th>\n",
       "      <td>77.198228</td>\n",
       "      <td>75.000000</td>\n",
       "      <td>704.250000</td>\n",
       "      <td>8253.976921</td>\n",
       "      <td>73.000000</td>\n",
       "      <td>24.000000</td>\n",
       "      <td>71.250000</td>\n",
       "      <td>8.000000</td>\n",
       "      <td>7.601695</td>\n",
       "      <td>25.000000</td>\n",
       "      <td>797.000000</td>\n",
       "      <td>23.00000</td>\n",
       "      <td>68.621026</td>\n",
       "      <td>3.563995</td>\n",
       "      <td>763.078231</td>\n",
       "    </tr>\n",
       "    <tr>\n",
       "      <th>max</th>\n",
       "      <td>99.171329</td>\n",
       "      <td>100.000000</td>\n",
       "      <td>996.000000</td>\n",
       "      <td>9866.465458</td>\n",
       "      <td>100.000000</td>\n",
       "      <td>30.000000</td>\n",
       "      <td>96.000000</td>\n",
       "      <td>10.000000</td>\n",
       "      <td>9.929816</td>\n",
       "      <td>30.000000</td>\n",
       "      <td>985.000000</td>\n",
       "      <td>30.00000</td>\n",
       "      <td>99.466109</td>\n",
       "      <td>4.939255</td>\n",
       "      <td>997.413450</td>\n",
       "    </tr>\n",
       "  </tbody>\n",
       "</table>\n",
       "</div>"
      ],
      "text/plain": [
       "            Price  Availability  Number of products sold  Revenue generated  \\\n",
       "count  100.000000    100.000000               100.000000         100.000000   \n",
       "mean    49.462461     48.400000               460.990000        5776.048187   \n",
       "std     31.168193     30.743317               303.780074        2732.841744   \n",
       "min      1.699976      1.000000                 8.000000        1061.618523   \n",
       "25%     19.597823     22.750000               184.250000        2812.847151   \n",
       "50%     51.239831     43.500000               392.500000        6006.352023   \n",
       "75%     77.198228     75.000000               704.250000        8253.976921   \n",
       "max     99.171329    100.000000               996.000000        9866.465458   \n",
       "\n",
       "       Stock levels  Lead times  Order quantities  Shipping times  \\\n",
       "count    100.000000  100.000000        100.000000      100.000000   \n",
       "mean      47.770000   15.960000         49.220000        5.750000   \n",
       "std       31.369372    8.785801         26.784429        2.724283   \n",
       "min        0.000000    1.000000          1.000000        1.000000   \n",
       "25%       16.750000    8.000000         26.000000        3.750000   \n",
       "50%       47.500000   17.000000         52.000000        6.000000   \n",
       "75%       73.000000   24.000000         71.250000        8.000000   \n",
       "max      100.000000   30.000000         96.000000       10.000000   \n",
       "\n",
       "       Shipping costs   Lead time  Production volumes  \\\n",
       "count      100.000000  100.000000          100.000000   \n",
       "mean         5.548149   17.080000          567.840000   \n",
       "std          2.651376    8.846251          263.046861   \n",
       "min          1.013487    1.000000          104.000000   \n",
       "25%          3.540248   10.000000          352.000000   \n",
       "50%          5.320534   18.000000          568.500000   \n",
       "75%          7.601695   25.000000          797.000000   \n",
       "max          9.929816   30.000000          985.000000   \n",
       "\n",
       "       Manufacturing lead time  Manufacturing costs  Defect rates       Costs  \n",
       "count                100.00000           100.000000    100.000000  100.000000  \n",
       "mean                  14.77000            47.266693      2.277158  529.245782  \n",
       "std                    8.91243            28.982841      1.461366  258.301696  \n",
       "min                    1.00000             1.085069      0.018608  103.916248  \n",
       "25%                    7.00000            22.983299      1.009650  318.778455  \n",
       "50%                   14.00000            45.905622      2.141863  520.430444  \n",
       "75%                   23.00000            68.621026      3.563995  763.078231  \n",
       "max                   30.00000            99.466109      4.939255  997.413450  "
      ]
     },
     "execution_count": 7,
     "metadata": {},
     "output_type": "execute_result"
    }
   ],
   "source": [
    "df.describe()"
   ]
  },
  {
   "cell_type": "code",
   "execution_count": 8,
   "id": "facac0ee",
   "metadata": {
    "execution": {
     "iopub.execute_input": "2023-04-26T17:46:05.520832Z",
     "iopub.status.busy": "2023-04-26T17:46:05.520104Z",
     "iopub.status.idle": "2023-04-26T17:46:05.526716Z",
     "shell.execute_reply": "2023-04-26T17:46:05.525783Z"
    },
    "papermill": {
     "duration": 0.018629,
     "end_time": "2023-04-26T17:46:05.528978",
     "exception": false,
     "start_time": "2023-04-26T17:46:05.510349",
     "status": "completed"
    },
    "tags": []
   },
   "outputs": [
    {
     "data": {
      "text/plain": [
       "Index(['Product type', 'SKU', 'Price', 'Availability',\n",
       "       'Number of products sold', 'Revenue generated', 'Customer demographics',\n",
       "       'Stock levels', 'Lead times', 'Order quantities', 'Shipping times',\n",
       "       'Shipping carriers', 'Shipping costs', 'Supplier name', 'Location',\n",
       "       'Lead time', 'Production volumes', 'Manufacturing lead time',\n",
       "       'Manufacturing costs', 'Inspection results', 'Defect rates',\n",
       "       'Transportation modes', 'Routes', 'Costs'],\n",
       "      dtype='object')"
      ]
     },
     "execution_count": 8,
     "metadata": {},
     "output_type": "execute_result"
    }
   ],
   "source": [
    "df.columns"
   ]
  },
  {
   "cell_type": "code",
   "execution_count": 9,
   "id": "f3ee1235",
   "metadata": {
    "execution": {
     "iopub.execute_input": "2023-04-26T17:46:05.548453Z",
     "iopub.status.busy": "2023-04-26T17:46:05.547610Z",
     "iopub.status.idle": "2023-04-26T17:46:05.556836Z",
     "shell.execute_reply": "2023-04-26T17:46:05.555835Z"
    },
    "papermill": {
     "duration": 0.021765,
     "end_time": "2023-04-26T17:46:05.559311",
     "exception": false,
     "start_time": "2023-04-26T17:46:05.537546",
     "status": "completed"
    },
    "tags": []
   },
   "outputs": [
    {
     "data": {
      "text/plain": [
       "Product type               0\n",
       "SKU                        0\n",
       "Price                      0\n",
       "Availability               0\n",
       "Number of products sold    0\n",
       "Revenue generated          0\n",
       "Customer demographics      0\n",
       "Stock levels               0\n",
       "Lead times                 0\n",
       "Order quantities           0\n",
       "Shipping times             0\n",
       "Shipping carriers          0\n",
       "Shipping costs             0\n",
       "Supplier name              0\n",
       "Location                   0\n",
       "Lead time                  0\n",
       "Production volumes         0\n",
       "Manufacturing lead time    0\n",
       "Manufacturing costs        0\n",
       "Inspection results         0\n",
       "Defect rates               0\n",
       "Transportation modes       0\n",
       "Routes                     0\n",
       "Costs                      0\n",
       "dtype: int64"
      ]
     },
     "execution_count": 9,
     "metadata": {},
     "output_type": "execute_result"
    }
   ],
   "source": [
    "df.isnull().sum()"
   ]
  },
  {
   "cell_type": "code",
   "execution_count": 12,
   "id": "c8f55b1d",
   "metadata": {
    "execution": {
     "iopub.execute_input": "2023-04-26T17:46:05.579161Z",
     "iopub.status.busy": "2023-04-26T17:46:05.578703Z",
     "iopub.status.idle": "2023-04-26T17:46:05.815582Z",
     "shell.execute_reply": "2023-04-26T17:46:05.814282Z"
    },
    "papermill": {
     "duration": 0.250751,
     "end_time": "2023-04-26T17:46:05.818467",
     "exception": false,
     "start_time": "2023-04-26T17:46:05.567716",
     "status": "completed"
    },
    "tags": []
   },
   "outputs": [
    {
     "data": {
      "image/png": "[encoded data removed]",
      "text/plain": [
       "<Figure size 800x600 with 1 Axes>"
      ]
     },
     "metadata": {},
     "output_type": "display_data"
    }
   ],
   "source": [
    "# create a bar chart of product types\n",
    "plt.figure(figsize=(8,6))\n",
    "sns.countplot(data=df, x='Product type')\n",
    "plt.xlabel('Product Type')\n",
    "plt.ylabel('Count')\n",
    "plt.title('Number of Products by Type')\n",
    "plt.show()\n"
   ]
  },
  {
   "cell_type": "code",
   "execution_count": 17,
   "id": "3305b0fd",
   "metadata": {
    "execution": {
     "iopub.execute_input": "2023-04-26T17:46:05.838085Z",
     "iopub.status.busy": "2023-04-26T17:46:05.837640Z",
     "iopub.status.idle": "2023-04-26T17:46:06.076139Z",
     "shell.execute_reply": "2023-04-26T17:46:06.074878Z"
    },
    "papermill": {
     "duration": 0.252226,
     "end_time": "2023-04-26T17:46:06.079668",
     "exception": false,
     "start_time": "2023-04-26T17:46:05.827442",
     "status": "completed"
    },
    "tags": []
   },
   "outputs": [
    {
     "data": {
      "image/png": "[encoded data removed]",
      "text/plain": [
       "<Figure size 800x600 with 1 Axes>"
      ]
     },
     "metadata": {},
     "output_type": "display_data"
    }
   ],
   "source": [
    "# create a scatter plot of price vs revenue\n",
    "plt.figure(figsize=(8,6))\n",
    "sns.scatterplot(data=df, x='Price', y='Revenue generated')\n",
    "plt.xlabel('Price')\n",
    "plt.ylabel('Revenue Generated')\n",
    "plt.title('Price vs Revenue Generated')\n",
    "plt.show()\n"
   ]
  },
  {
   "cell_type": "code",
   "execution_count": 20,
   "id": "3d21d294",
   "metadata": {
    "execution": {
     "iopub.execute_input": "2023-04-26T17:46:06.100610Z",
     "iopub.status.busy": "2023-04-26T17:46:06.100176Z",
     "iopub.status.idle": "2023-04-26T17:46:06.366001Z",
     "shell.execute_reply": "2023-04-26T17:46:06.364820Z"
    },
    "papermill": {
     "duration": 0.280364,
     "end_time": "2023-04-26T17:46:06.369554",
     "exception": false,
     "start_time": "2023-04-26T17:46:06.089190",
     "status": "completed"
    },
    "tags": []
   },
   "outputs": [
    {
     "data": {
      "image/png": "[encoded data removed]",
      "text/plain": [
       "<Figure size 800x600 with 1 Axes>"
      ]
     },
     "metadata": {},
     "output_type": "display_data"
    }
   ],
   "source": [
    "# create a histogram of number of products sold\n",
    "plt.figure(figsize=(8,6))\n",
    "sns.histplot(data=df, x='Number of products sold', bins=30)\n",
    "plt.xlabel('Number of Products Sold')\n",
    "plt.ylabel('Count')\n",
    "plt.title('Distribution of Number of Products Sold')\n",
    "plt.show()\n"
   ]
  },
  {
   "cell_type": "code",
   "execution_count": 21,
   "id": "c7a00c01",
   "metadata": {
    "execution": {
     "iopub.execute_input": "2023-04-26T17:46:06.392120Z",
     "iopub.status.busy": "2023-04-26T17:46:06.391152Z",
     "iopub.status.idle": "2023-04-26T17:46:06.693137Z",
     "shell.execute_reply": "2023-04-26T17:46:06.691777Z"
    },
    "papermill": {
     "duration": 0.31587,
     "end_time": "2023-04-26T17:46:06.695712",
     "exception": false,
     "start_time": "2023-04-26T17:46:06.379842",
     "status": "completed"
    },
    "tags": []
   },
   "outputs": [
    {
     "data": {
      "image/png": "[encoded data removed]",
      "text/plain": [
       "<Figure size 1000x800 with 2 Axes>"
      ]
     },
     "metadata": {},
     "output_type": "display_data"
    }
   ],
   "source": [
    "# create a heatmap of customer demographics\n",
    "plt.figure(figsize=(10,8))\n",
    "sns.heatmap(pd.crosstab(df['Product type'], df['Customer demographics']), cmap='Blues')\n",
    "plt.xlabel('Customer Demographics')\n",
    "plt.ylabel('Product Type')\n",
    "plt.title('Product Type by Customer Demographics')\n",
    "plt.show()\n"
   ]
  },
  {
   "cell_type": "code",
   "execution_count": 22,
   "id": "d7cb65bb",
   "metadata": {
    "execution": {
     "iopub.execute_input": "2023-04-26T17:46:06.718697Z",
     "iopub.status.busy": "2023-04-26T17:46:06.718258Z",
     "iopub.status.idle": "2023-04-26T17:46:06.900331Z",
     "shell.execute_reply": "2023-04-26T17:46:06.899299Z"
    },
    "papermill": {
     "duration": 0.196873,
     "end_time": "2023-04-26T17:46:06.903121",
     "exception": false,
     "start_time": "2023-04-26T17:46:06.706248",
     "status": "completed"
    },
    "tags": []
   },
   "outputs": [
    {
     "data": {
      "image/png": "[encoded data removed]",
      "text/plain": [
       "<Figure size 800x600 with 1 Axes>"
      ]
     },
     "metadata": {},
     "output_type": "display_data"
    }
   ],
   "source": [
    "# create a box plot of lead times\n",
    "plt.figure(figsize=(8,6))\n",
    "sns.boxplot(data=df, x='Product type', y='Lead times')\n",
    "plt.xlabel('Product Type')\n",
    "plt.ylabel('Lead Times')\n",
    "plt.title('Lead Times by Product Type')\n",
    "plt.show()\n"
   ]
  },
  {
   "cell_type": "code",
   "execution_count": null,
   "id": "3957f3fd",
   "metadata": {
    "execution": {
     "iopub.execute_input": "2023-04-26T17:46:06.927920Z",
     "iopub.status.busy": "2023-04-26T17:46:06.926951Z",
     "iopub.status.idle": "2023-04-26T17:46:07.341511Z",
     "shell.execute_reply": "2023-04-26T17:46:07.340114Z"
    },
    "papermill": {
     "duration": 0.430181,
     "end_time": "2023-04-26T17:46:07.344358",
     "exception": false,
     "start_time": "2023-04-26T17:46:06.914177",
     "status": "completed"
    },
    "tags": []
   },
   "outputs": [],
   "source": [
    "# create a stacked bar chart of shipping carriers and transportation modes\n",
    "plt.figure(figsize=(10,8))\n",
    "pd.crosstab(df['Product type'], [df['Shipping carriers'], df['Transportation modes']]).plot(kind='bar', stacked=True)\n",
    "plt.xlabel('Product Type')\n",
    "plt.ylabel('Count')\n",
    "plt.title('Shipping Carriers and Transportation Modes by Product Type')\n",
    "plt.show()\n"
   ]
  },
  {
   "cell_type": "code",
   "execution_count": null,
   "id": "f4a822ed",
   "metadata": {
    "execution": {
     "iopub.execute_input": "2023-04-26T17:46:07.371618Z",
     "iopub.status.busy": "2023-04-26T17:46:07.370342Z",
     "iopub.status.idle": "2023-04-26T17:46:07.553066Z",
     "shell.execute_reply": "2023-04-26T17:46:07.551659Z"
    },
    "papermill": {
     "duration": 0.19895,
     "end_time": "2023-04-26T17:46:07.555601",
     "exception": false,
     "start_time": "2023-04-26T17:46:07.356651",
     "status": "completed"
    },
    "tags": []
   },
   "outputs": [],
   "source": [
    "# create a scatter plot of production volumes vs manufacturing costs\n",
    "plt.figure(figsize=(8,6))\n",
    "sns.scatterplot(data=df, x='Production volumes', y='Manufacturing costs')\n",
    "plt.xlabel('Production Volumes')\n",
    "plt.ylabel('Manufacturing Costs')\n",
    "plt.title('Production Volumes vs Manufacturing Costs')\n",
    "plt.show()\n"
   ]
  },
  {
   "cell_type": "code",
   "execution_count": null,
   "id": "253e64f1",
   "metadata": {
    "execution": {
     "iopub.execute_input": "2023-04-26T17:46:07.583025Z",
     "iopub.status.busy": "2023-04-26T17:46:07.581859Z",
     "iopub.status.idle": "2023-04-26T17:46:07.764647Z",
     "shell.execute_reply": "2023-04-26T17:46:07.763565Z"
    },
    "papermill": {
     "duration": 0.199304,
     "end_time": "2023-04-26T17:46:07.767239",
     "exception": false,
     "start_time": "2023-04-26T17:46:07.567935",
     "status": "completed"
    },
    "tags": []
   },
   "outputs": [],
   "source": [
    "plt.figure(figsize=(8,6))\n",
    "top_suppliers = df.groupby('Supplier name')['Revenue generated'].sum().nlargest(10)\n",
    "sns.barplot(x=top_suppliers.values, y=top_suppliers.index, palette='Blues_d')\n",
    "plt.xlabel('Revenue generated')\n",
    "plt.ylabel('Supplier name')\n",
    "plt.title('Top 10 suppliers by revenue')\n",
    "plt.show()\n"
   ]
  },
  {
   "cell_type": "code",
   "execution_count": null,
   "id": "73a240a7",
   "metadata": {
    "execution": {
     "iopub.execute_input": "2023-04-26T17:46:07.795703Z",
     "iopub.status.busy": "2023-04-26T17:46:07.794743Z",
     "iopub.status.idle": "2023-04-26T17:46:08.034976Z",
     "shell.execute_reply": "2023-04-26T17:46:08.033581Z"
    },
    "papermill": {
     "duration": 0.25769,
     "end_time": "2023-04-26T17:46:08.037976",
     "exception": false,
     "start_time": "2023-04-26T17:46:07.780286",
     "status": "completed"
    },
    "tags": []
   },
   "outputs": [],
   "source": [
    "plt.figure(figsize=(8,6))\n",
    "sns.histplot(data=df, x='Price', kde=True, bins=30)\n",
    "plt.xlabel('Price')\n",
    "plt.ylabel('Frequency')\n",
    "plt.title('Histogram of product prices')\n",
    "plt.show()\n"
   ]
  },
  {
   "cell_type": "code",
   "execution_count": null,
   "id": "0c589f86",
   "metadata": {
    "execution": {
     "iopub.execute_input": "2023-04-26T17:46:08.068209Z",
     "iopub.status.busy": "2023-04-26T17:46:08.067789Z",
     "iopub.status.idle": "2023-04-26T17:46:08.247760Z",
     "shell.execute_reply": "2023-04-26T17:46:08.246286Z"
    },
    "papermill": {
     "duration": 0.198324,
     "end_time": "2023-04-26T17:46:08.250765",
     "exception": false,
     "start_time": "2023-04-26T17:46:08.052441",
     "status": "completed"
    },
    "tags": []
   },
   "outputs": [],
   "source": [
    "plt.figure(figsize=(8,6))\n",
    "sns.boxplot(data=df, x='Product type', y='Price')\n",
    "plt.xlabel('Product type')\n",
    "plt.ylabel('Price')\n",
    "plt.title('Box plot of product prices by product type')\n",
    "plt.show()\n"
   ]
  },
  {
   "cell_type": "code",
   "execution_count": null,
   "id": "a6a4e50e",
   "metadata": {
    "execution": {
     "iopub.execute_input": "2023-04-26T17:46:08.281132Z",
     "iopub.status.busy": "2023-04-26T17:46:08.280665Z",
     "iopub.status.idle": "2023-04-26T17:46:08.476059Z",
     "shell.execute_reply": "2023-04-26T17:46:08.474410Z"
    },
    "papermill": {
     "duration": 0.213958,
     "end_time": "2023-04-26T17:46:08.478893",
     "exception": false,
     "start_time": "2023-04-26T17:46:08.264935",
     "status": "completed"
    },
    "tags": []
   },
   "outputs": [],
   "source": [
    "plt.figure(figsize=(8,6))\n",
    "sns.scatterplot(data=df, x='Number of products sold', y='Revenue generated')\n",
    "plt.xlabel('Number of products sold')\n",
    "plt.ylabel('Revenue generated')\n",
    "plt.title('Scatter plot of revenue generated vs. number of products sold')\n",
    "plt.show()\n"
   ]
  },
  {
   "cell_type": "code",
   "execution_count": 24,
   "id": "0daf4c59",
   "metadata": {
    "execution": {
     "iopub.execute_input": "2023-04-26T17:46:08.510889Z",
     "iopub.status.busy": "2023-04-26T17:46:08.510437Z",
     "iopub.status.idle": "2023-04-26T17:46:08.916353Z",
     "shell.execute_reply": "2023-04-26T17:46:08.914749Z"
    },
    "papermill": {
     "duration": 0.425558,
     "end_time": "2023-04-26T17:46:08.919211",
     "exception": false,
     "start_time": "2023-04-26T17:46:08.493653",
     "status": "completed"
    },
    "tags": []
   },
   "outputs": [
    {
     "data": {
      "image/png": "[encoded data removed]",
      "text/plain": [
       "<Figure size 800x600 with 1 Axes>"
      ]
     },
     "metadata": {},
     "output_type": "display_data"
    }
   ],
   "source": [
    "plt.figure(figsize=(8,6))\n",
    "sns.violinplot(data=df, x='Location', y='Lead times')\n",
    "plt.xlabel('Supplier location')\n",
    "plt.ylabel('Lead times')\n",
    "plt.title('Violin plot of lead times by supplier location')\n",
    "plt.show()\n"
   ]
  },
  {
   "cell_type": "code",
   "execution_count": null,
   "id": "58d8d661",
   "metadata": {
    "execution": {
     "iopub.execute_input": "2023-04-26T17:46:08.956815Z",
     "iopub.status.busy": "2023-04-26T17:46:08.954412Z",
     "iopub.status.idle": "2023-04-26T17:46:10.334819Z",
     "shell.execute_reply": "2023-04-26T17:46:10.333594Z"
    },
    "papermill": {
     "duration": 1.404612,
     "end_time": "2023-04-26T17:46:10.340548",
     "exception": false,
     "start_time": "2023-04-26T17:46:08.935936",
     "status": "completed"
    },
    "tags": []
   },
   "outputs": [],
   "source": [
    "plt.figure(figsize=(12,6))\n",
    "corr = df.corr()\n",
    "sns.heatmap(corr, annot=True, cmap='Blues')\n",
    "plt.title('Heatmap of the correlation between variables')\n",
    "plt.show()\n"
   ]
  },
  {
   "cell_type": "code",
   "execution_count": 23,
   "id": "88c61f3e",
   "metadata": {
    "execution": {
     "iopub.execute_input": "2023-04-26T17:46:10.384642Z",
     "iopub.status.busy": "2023-04-26T17:46:10.384227Z",
     "iopub.status.idle": "2023-04-26T17:46:10.567731Z",
     "shell.execute_reply": "2023-04-26T17:46:10.566314Z"
    },
    "papermill": {
     "duration": 0.210379,
     "end_time": "2023-04-26T17:46:10.571645",
     "exception": false,
     "start_time": "2023-04-26T17:46:10.361266",
     "status": "completed"
    },
    "tags": []
   },
   "outputs": [
    {
     "data": {
      "text/plain": [
       "Text(0.5, 1.0, 'Top 10 Products by Revenue')"
      ]
     },
     "execution_count": 23,
     "metadata": {},
     "output_type": "execute_result"
    },
    {
     "data": {
      "image/png": "[encoded data removed]",
      "text/plain": [
       "<Figure size 800x600 with 1 Axes>"
      ]
     },
     "metadata": {},
     "output_type": "display_data"
    }
   ],
   "source": [
    "# group the data by product type and calculate the total revenue generated by each product\n",
    "product_revenue = df.groupby('Product type')['Revenue generated'].sum()\n",
    "\n",
    "# sort the products by revenue in descending order\n",
    "product_revenue = product_revenue.sort_values(ascending=False)\n",
    "\n",
    "# plot a bar chart of the top 10 products by revenue\n",
    "plt.figure(figsize=(8,6))\n",
    "sns.barplot(x=product_revenue[:10], y=product_revenue[:10].index, palette='Blues_r')\n",
    "plt.xlabel('Revenue Generated')\n",
    "plt.ylabel('Product Type')\n",
    "plt.title('Top 10 Products by Revenue')\n"
   ]
  },
  {
   "cell_type": "code",
   "execution_count": null,
   "id": "8331f4f1",
   "metadata": {
    "execution": {
     "iopub.execute_input": "2023-04-26T17:46:10.618289Z",
     "iopub.status.busy": "2023-04-26T17:46:10.617226Z",
     "iopub.status.idle": "2023-04-26T17:46:10.770939Z",
     "shell.execute_reply": "2023-04-26T17:46:10.769543Z"
    },
    "papermill": {
     "duration": 0.179774,
     "end_time": "2023-04-26T17:46:10.774838",
     "exception": false,
     "start_time": "2023-04-26T17:46:10.595064",
     "status": "completed"
    },
    "tags": []
   },
   "outputs": [],
   "source": [
    "# group the data by transportation modes and calculate the total shipping costs for each mode\n",
    "transportation_costs = df.groupby('Transportation modes')['Shipping costs'].sum()\n",
    "\n",
    "# plot a pie chart of the shipping costs by transportation mode\n",
    "plt.figure(figsize=(8,6))\n",
    "plt.pie(transportation_costs, labels=transportation_costs.index, autopct='%1.1f%%')\n",
    "plt.title('Shipping Costs by Transportation Mode')\n"
   ]
  },
  {
   "cell_type": "code",
   "execution_count": null,
   "id": "44a1e274",
   "metadata": {
    "execution": {
     "iopub.execute_input": "2023-04-26T17:46:10.841392Z",
     "iopub.status.busy": "2023-04-26T17:46:10.840361Z",
     "iopub.status.idle": "2023-04-26T17:46:11.107684Z",
     "shell.execute_reply": "2023-04-26T17:46:11.106353Z"
    },
    "papermill": {
     "duration": 0.295944,
     "end_time": "2023-04-26T17:46:11.110484",
     "exception": false,
     "start_time": "2023-04-26T17:46:10.814540",
     "status": "completed"
    },
    "tags": []
   },
   "outputs": [],
   "source": [
    "# plot a scatter plot of manufacturing costs and lead times\n",
    "plt.figure(figsize=(8,6))\n",
    "sns.scatterplot(data=df, x='Manufacturing lead time', y='Manufacturing costs')\n",
    "plt.xlabel('Manufacturing Lead Time')\n",
    "plt.ylabel('Manufacturing Costs')\n",
    "plt.title('Manufacturing Costs vs Lead Time')\n"
   ]
  },
  {
   "attachments": {},
   "cell_type": "markdown",
   "id": "4c11d393",
   "metadata": {
    "papermill": {
     "duration": 0.021689,
     "end_time": "2023-04-26T17:46:11.155479",
     "exception": false,
     "start_time": "2023-04-26T17:46:11.133790",
     "status": "completed"
    },
    "tags": []
   },
   "source": [
    "*Based on the analysis of the given dataset, it is evident that there is a wealth of information that can be extracted to gain insights into the supply chain operations. Through the use of various visualizations, we were able to identify the most popular products, revenue generation, transportation modes, shipping costs, lead times, and manufacturing costs, among other metrics.\n",
    "\n",
    "*This analysis can help inform strategic decision-making and identify areas for improvement in the supply chain operations. For example, it may be possible to optimize inventory management, reduce waste and inefficiencies, improve product quality, reduce carbon emissions, and strengthen supplier relationships.\n",
    "\n",
    "*Overall, the insights gained from analyzing this dataset can help drive positive change in the supply chain, leading to improved efficiency, sustainability, and profitability.***"
   ]
  }
 ],
 "metadata": {
  "kernelspec": {
   "display_name": "Python 3",
   "language": "python",
   "name": "python3"
  },
  "language_info": {
   "codemirror_mode": {
    "name": "ipython",
    "version": 3
   },
   "file_extension": ".py",
   "mimetype": "text/x-python",
   "name": "python",
   "nbconvert_exporter": "python",
   "pygments_lexer": "ipython3",
   "version": "3.10.11"
  },
  "papermill": {
   "default_parameters": {},
   "duration": 18.733703,
   "end_time": "2023-04-26T17:46:12.002114",
   "environment_variables": {},
   "exception": null,
   "input_path": "__notebook__.ipynb",
   "output_path": "__notebook__.ipynb",
   "parameters": {},
   "start_time": "2023-04-26T17:45:53.268411",
   "version": "2.4.0"
  }
 },
 "nbformat": 4,
 "nbformat_minor": 5
}
