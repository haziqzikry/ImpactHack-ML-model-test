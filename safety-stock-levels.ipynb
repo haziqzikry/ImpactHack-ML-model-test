{
 "cells": [
  {
   "cell_type": "code",
   "execution_count": 7,
   "metadata": {},
   "outputs": [
    {
     "name": "stdout",
     "output_type": "stream",
     "text": [
      "Accuracy: 0.0\n"
     ]
    }
   ],
   "source": [
    "import json\n",
    "import pandas as pd\n",
    "from sklearn.ensemble import RandomForestClassifier\n",
    "from sklearn.model_selection import train_test_split\n",
    "from sklearn.metrics import accuracy_score\n",
    "\n",
    "# Step 1: Import JSON data\n",
    "with open('updated_inventory_data.json') as file:\n",
    "    data = json.load(file)\n",
    "\n",
    "# Step 2: Preprocessing\n",
    "# Create a DataFrame from the JSON data\n",
    "df = pd.DataFrame(data)\n",
    "\n",
    "# Convert numeric columns to appropriate data types\n",
    "numeric_columns = ['SKU', 'Price', 'Number of products sold', 'Revenue generated',\n",
    "                   'Stock levels', 'Lead times', 'Order quantities', 'Shipping times', 'Shipping costs']\n",
    "df[numeric_columns] = df[numeric_columns].apply(pd.to_numeric)\n",
    "\n",
    "# Step 3: Splitting the data into training and testing sets\n",
    "X = df[['Price', 'Stock levels', 'Revenue generated']]  # Input features\n",
    "y = df['SKU']  # Target variable (SKU)\n",
    "\n",
    "# Split the data into training and testing sets\n",
    "X_train, X_test, y_train, y_test = train_test_split(X, y, test_size=0.2, random_state=42)\n",
    "\n",
    "# Step 4: Training the Random Forest Classifier\n",
    "model = RandomForestClassifier()\n",
    "model.fit(X_train, y_train)\n",
    "\n",
    "# Step 5: Making predictions\n",
    "y_pred = model.predict(X_test)\n",
    "\n",
    "# Step 6: Evaluating the model\n",
    "accuracy = accuracy_score(y_test, y_pred)\n",
    "print(\"Accuracy:\", accuracy)\n"
   ]
  },
  {
   "cell_type": "code",
   "execution_count": null,
   "metadata": {},
   "outputs": [],
   "source": [
    "# Convert numeric columns to appropriate data types\n",
    "numeric_columns = ['SKU', 'Price', 'Number of products sold', 'Revenue generated',\n",
    "                   'Stock levels', 'Lead times', 'Order quantities', 'Shipping times', 'Shipping costs']\n",
    "df[numeric_columns] = df[numeric_columns].apply(pd.to_numeric)\n",
    "\n",
    "# Step 3: Calculate Safety Stock\n",
    "# Define the desired service level (e.g., 95%)\n",
    "service_level = 0.95\n",
    "\n",
    "# Calculate the average demand rate and lead time (adjust these based on your data)\n",
    "average_demand = df['Number of products sold'].mean()\n",
    "lead_time = df['Lead times'].iloc[0]\n",
    "\n",
    "# Calculate the lead time demand\n",
    "lead_time_demand = average_demand * lead_time\n",
    "\n",
    "# Calculate the demand variability (standard deviation)\n",
    "demand_std = np.std(df['Number of products sold'])  # Assuming 'Number of products sold' represents demand\n",
    "\n",
    "# Calculate the safety factor (z-score) corresponding to the desired service level\n",
    "z_score = stats.norm.ppf(service_level)\n",
    "\n",
    "# Calculate the safety stock\n",
    "safety_stock = z_score * demand_std\n",
    "\n",
    "# Print the safety stock level\n",
    "print(\"Safety Stock Level:\", safety_stock)\n"
   ]
  }
 ],
 "metadata": {
  "kernelspec": {
   "display_name": "base",
   "language": "python",
   "name": "python3"
  },
  "language_info": {
   "codemirror_mode": {
    "name": "ipython",
    "version": 3
   },
   "file_extension": ".py",
   "mimetype": "text/x-python",
   "name": "python",
   "nbconvert_exporter": "python",
   "pygments_lexer": "ipython3",
   "version": "3.10.9"
  },
  "orig_nbformat": 4
 },
 "nbformat": 4,
 "nbformat_minor": 2
}
